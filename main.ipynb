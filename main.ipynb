{
 "cells": [
  {
   "cell_type": "code",
   "execution_count": 1,
   "metadata": {},
   "outputs": [],
   "source": [
    "import pandas as pd"
   ]
  },
  {
   "cell_type": "code",
   "execution_count": 2,
   "metadata": {},
   "outputs": [],
   "source": [
    "df = pd.read_csv('world_alcohol.csv')"
   ]
  },
  {
   "cell_type": "code",
   "execution_count": 3,
   "metadata": {},
   "outputs": [],
   "source": [
    "world_alcohol_data = pd.read_csv('world_alcohol.csv')"
   ]
  },
  {
   "cell_type": "code",
   "execution_count": 4,
   "metadata": {},
   "outputs": [
    {
     "name": "stdout",
     "output_type": "stream",
     "text": [
      "    Year             WHO region  \\\n",
      "1   1986               Americas   \n",
      "6   1987                 Africa   \n",
      "11  1989               Americas   \n",
      "16  1984               Americas   \n",
      "21  1989               Americas   \n",
      "26  1985                 Europe   \n",
      "31  1986        Western Pacific   \n",
      "36  1987  Eastern Mediterranean   \n",
      "41  1986                 Europe   \n",
      "46  1987               Americas   \n",
      "51  1987                 Europe   \n",
      "56  1987        Western Pacific   \n",
      "61  1984        Western Pacific   \n",
      "66  1987  Eastern Mediterranean   \n",
      "71  1985                 Africa   \n",
      "76  1985                 Africa   \n",
      "81  1985                 Europe   \n",
      "86  1986               Americas   \n",
      "91  1989                 Europe   \n",
      "96  1985                 Europe   \n",
      "\n",
      "                                              Country Beverage Types  \\\n",
      "1                                             Uruguay          Other   \n",
      "6                                           Mauritius           Wine   \n",
      "11                                          Guatemala           Beer   \n",
      "16                                         Costa Rica           Wine   \n",
      "21                                         Costa Rica        Spirits   \n",
      "26  United Kingdom of Great Britain and Northern I...           Wine   \n",
      "31                   Micronesia (Federated States of)           Wine   \n",
      "36                                              Egypt           Beer   \n",
      "41                                     Czech Republic           Beer   \n",
      "46                                Trinidad and Tobago        Spirits   \n",
      "51                                            Finland           Beer   \n",
      "56                                           Viet Nam           Wine   \n",
      "61                                   Papua New Guinea        Spirits   \n",
      "66                                               Iraq           Wine   \n",
      "71                                               Mali          Other   \n",
      "76                                            Comoros           Beer   \n",
      "81                                        Netherlands           Wine   \n",
      "86                                            Bahamas           Wine   \n",
      "91                                           Bulgaria           Beer   \n",
      "96                                         Luxembourg           Wine   \n",
      "\n",
      "    Display Value  \n",
      "1            0.50  \n",
      "6            0.13  \n",
      "11           0.62  \n",
      "16           0.06  \n",
      "21           4.51  \n",
      "26           1.36  \n",
      "31           0.00  \n",
      "36           0.07  \n",
      "41           6.82  \n",
      "46           2.26  \n",
      "51           3.88  \n",
      "56           0.00  \n",
      "61           0.08  \n",
      "66           0.01  \n",
      "71           0.57  \n",
      "76           0.02  \n",
      "81           2.54  \n",
      "86           1.83  \n",
      "91           4.43  \n",
      "96           7.38  \n"
     ]
    }
   ],
   "source": [
    "# Filter records starting from the 2nd row (index 1) and access every 5th row\n",
    "filtered_data = world_alcohol_data.iloc[1::5]\n",
    "\n",
    "# Display the filtered dataset\n",
    "print(filtered_data)\n"
   ]
  }
 ],
 "metadata": {
  "kernelspec": {
   "display_name": ".venv",
   "language": "python",
   "name": "python3"
  },
  "language_info": {
   "codemirror_mode": {
    "name": "ipython",
    "version": 3
   },
   "file_extension": ".py",
   "mimetype": "text/x-python",
   "name": "python",
   "nbconvert_exporter": "python",
   "pygments_lexer": "ipython3",
   "version": "3.13.0"
  }
 },
 "nbformat": 4,
 "nbformat_minor": 2
}
